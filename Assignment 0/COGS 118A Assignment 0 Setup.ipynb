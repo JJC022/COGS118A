{
 "cells": [
  {
   "cell_type": "markdown",
   "metadata": {},
   "source": [
    "# COGS 118A- Assignment 0: Setting Up by Qiyuan Wu and Owen Zhang\n",
    "\n",
    "This assignment covers the coding environment of the course\n",
    "\n",
    "\n",
    "This assignment is out of 15 points, worth 5% of your grade."
   ]
  },
  {
   "cell_type": "markdown",
   "metadata": {},
   "source": [
    "The following couple cells are checks that you are running the right tools for these assignments."
   ]
  },
  {
   "cell_type": "code",
   "execution_count": 1,
   "metadata": {},
   "outputs": [],
   "source": [
    "# These assignments require Python 3 (not Python 2).\n",
    "# Run this cell to check your version of Python.\n",
    "import sys\n",
    "assert sys.version_info[0] == 3, \"You must use Python 3 (preferably 3.6 or 3.7) for these assignments.\""
   ]
  },
  {
   "cell_type": "code",
   "execution_count": 2,
   "metadata": {},
   "outputs": [],
   "source": [
    "# Run this cell to check your version of IPython. \n",
    "# If you get an error (the message prints out), stop and upgrade Jupyter.\n",
    "import IPython\n",
    "assert IPython.version_info[0] >= 3, \"Your version of IPython is too old, please update it.\""
   ]
  },
  {
   "cell_type": "markdown",
   "metadata": {},
   "source": [
    "#### Optional Virtual Environment Setup ####"
   ]
  },
  {
   "cell_type": "code",
   "execution_count": 4,
   "metadata": {},
   "outputs": [],
   "source": [
    "'''\n",
    "This cell contains commands for creating a new virtual environment with a specific python version. \n",
    "Creating a virtual envoirnment ensures that the packages we installed for our assignments do not interfere with your other projects and allows reproducibility of your code. \n",
    "You will need to install conda on your device. Please replace <env> with your choice of environment name. Ex. hw0\n",
    "\n",
    "Run the code below in your command prompt on your device to create a Conda environment. \n",
    "conda create -n <env> python=3.7\n",
    "\n",
    "'''\n",
    "#!conda create -n COGS118A python=3.7\n",
    "!conda activate COGS118A"
   ]
  },
  {
   "cell_type": "markdown",
   "metadata": {},
   "source": [
    "This part of the assignment is focused on some practice with Python, and with practicing working with the format of the assignments.\n",
    "\n",
    "This class assumes some prior knowledge of Python. In the following questions, you will need to work with basic (standard library) data types (floats, lists, dictionaries, etc.) and control flow (conditionals, loops, functions, etc). If the questions in this section are totally unfamiliar to you, you may need revisit some practice materials to catch up with some of the programming.\n",
    "\n",
    "Through these questions, we will also prompt you to use a couple slightly more advanced standard library functions (for example, 'enumerate' and 'zip'), that may be new to you.\n",
    "\n",
    "Each question should be answerable with a relatively small number of lines of code, up to about 5-7 lines at most."
   ]
  },
  {
   "cell_type": "code",
   "execution_count": 5,
   "metadata": {},
   "outputs": [
    {
     "name": "stdout",
     "output_type": "stream",
     "text": [
      "8\n"
     ]
    }
   ],
   "source": [
    "# PRINTING VARIABLES\n",
    "# A reminder that you can (and should) print and check variables as you go.\n",
    "#  This allows you to check what values they hold, and debug if anything unexpected happens.\n",
    "\n",
    "# Define a variable\n",
    "math_result = 2 * 4\n",
    "\n",
    "# Print out the value(s) of a variable.\n",
    "print(math_result)"
   ]
  },
  {
   "cell_type": "markdown",
   "metadata": {},
   "source": [
    "## Question 1: Defining variables (0.5 points)\n",
    "\n",
    "Define a tuple called `var_a`, that contains the numbers 1-10 (inclusively).\n",
    "Define a list called `var_b`, that contains individual letters a-j (inclusively)."
   ]
  },
  {
   "cell_type": "code",
   "execution_count": 6,
   "metadata": {},
   "outputs": [],
   "source": [
    "# YOUR CODE HERE\n",
    "var_a = (1,2,3,4,5,6,7,8,9,10)\n",
    "\n",
    "var_b = ['a','b','c','d','e','f','g','h','i','j']"
   ]
  },
  {
   "cell_type": "code",
   "execution_count": 7,
   "metadata": {},
   "outputs": [],
   "source": [
    "# Tests for Q1\n",
    "\n",
    "# These tests check the variables are defined\n",
    "assert var_a\n",
    "assert var_b\n",
    "\n",
    "# These tests check that the variables are the right data types\n",
    "assert isinstance(var_a, tuple)\n",
    "assert isinstance(var_b, list)"
   ]
  },
  {
   "cell_type": "markdown",
   "metadata": {},
   "source": [
    "## Question 2: Defining Variables, Part II (0.5 points)\n",
    "\n",
    "Create a Python dict called `dictionary` where the keys are the elements in `var_b` and the values are the corresponding elements in `var_a`.\n",
    "\n",
    "The `zip` function may be useful.\n",
    "\n",
    "You might also make use of a Python dictionary comprehension"
   ]
  },
  {
   "cell_type": "code",
   "execution_count": 18,
   "metadata": {},
   "outputs": [
    {
     "name": "stdout",
     "output_type": "stream",
     "text": [
      "{'a': 1, 'b': 2, 'c': 3, 'd': 4, 'e': 5, 'f': 6, 'g': 7, 'h': 8, 'i': 9, 'j': 10}\n"
     ]
    }
   ],
   "source": [
    "# YOUR CODE HERE\n",
    "dictionary = dict(zip(var_b, var_a))\n",
    "\n",
    "\n",
    "# These tests check that dictioinary has the right data types\n",
    "assert isinstance(dictionary,dict)\n",
    "\n",
    "print(dictionary) # Do not delete"
   ]
  },
  {
   "cell_type": "markdown",
   "metadata": {},
   "source": [
    "## Question 3: Control Flow (1 point)\n",
    "Loop through the provided list `lst`. For each element, check if it is an even number. If the element is an even number, append the INDEX of that element to the list `inds`.\n",
    "\n",
    "Note that you are adding the index to `inds`, **not the element itself**.\n",
    "   \n",
    "Hint: to check if a number is even, you can use the modulo `%` operator.\n",
    "\n",
    "Hint: to loop through an iterable, keeping track of the index, you can use the `enumerate` function."
   ]
  },
  {
   "cell_type": "code",
   "execution_count": 19,
   "metadata": {},
   "outputs": [
    {
     "name": "stdout",
     "output_type": "stream",
     "text": [
      "[1, 3, 5, 7, 9, 11, 13]\n"
     ]
    }
   ],
   "source": [
    "# These variables are provided to you.\n",
    "lst = [1, 2, 3, 4, 5, 6, 7, 8, 9, 10, 11, 12, 13, 14, 15]\n",
    "inds = []\n",
    "\n",
    "# YOUR CODE HERE\n",
    "inds = [index for (index, item) in enumerate(lst) if item %2 == 0]\n",
    "\n",
    "print(inds) # Do not delete"
   ]
  },
  {
   "cell_type": "markdown",
   "metadata": {},
   "source": [
    "## Question 4: Functions (1 point)\n",
    "\n",
    "Write a function `squared_diff` that takes two number inputs and returns the squared difference of the two numbers i.e. $(a - b)^2$. For example:\n",
    "\n",
    "```python\n",
    ">>> squared_diff(2, 4)\n",
    "4\n",
    ">>> squared_diff(10, 1)\n",
    "81\n",
    "```"
   ]
  },
  {
   "cell_type": "code",
   "execution_count": 20,
   "metadata": {},
   "outputs": [],
   "source": [
    "...  # YOUR CODE HERE\n",
    "def squared_diff(a, b): \n",
    "    ans = (a-b)**2\n",
    "\n",
    "    return ans\n",
    "assert squared_diff(2,4) == 4     # Do not delete\n",
    "assert squared_diff(10,1) == 81   # Do not delete\n",
    "assert squared_diff(-10,2) == 144 # Do not delete\n",
    "assert squared_diff(15,16) == 1   # Do not delete\n",
    "assert squared_diff(16,16) == 0   # Do not delete"
   ]
  },
  {
   "cell_type": "markdown",
   "metadata": {},
   "source": [
    "## Question 5: Putting it all together (1 point)\n",
    "\n",
    "Create a dictionary named `second_dictionary`. It should have the key-value pairs as `dictionary` (the variable we created in question 2), unless the original value is odd. If so, the value in `second_dictionary` should be the squared difference of the original value and 10.\n",
    "\n",
    "Note: to loop through key-value pairs in a dictionary, check out the `.items` method."
   ]
  },
  {
   "cell_type": "code",
   "execution_count": 21,
   "metadata": {},
   "outputs": [
    {
     "name": "stdout",
     "output_type": "stream",
     "text": [
      "dict_items([('a', 1), ('b', 2), ('c', 3), ('d', 4), ('e', 5), ('f', 6), ('g', 7), ('h', 8), ('i', 9), ('j', 10)])\n"
     ]
    }
   ],
   "source": [
    "print(dictionary.items())"
   ]
  },
  {
   "cell_type": "code",
   "execution_count": 22,
   "metadata": {},
   "outputs": [
    {
     "name": "stdout",
     "output_type": "stream",
     "text": [
      "{'a': 81, 'b': 2, 'c': 49, 'd': 4, 'e': 25, 'f': 6, 'g': 9, 'h': 8, 'i': 1, 'j': 10}\n"
     ]
    }
   ],
   "source": [
    "second_dictionary = dict()\n",
    "# YOUR CODE HERE\n",
    "\n",
    "for key, value in dictionary.items(): \n",
    "    if value % 2 == 0: \n",
    "        second_dictionary.update({key : value})\n",
    "    else: \n",
    "        second_dictionary.update({key : squared_diff(value, 10)})\n",
    "\n",
    "\n",
    "\n",
    "\n",
    "\n",
    "print(second_dictionary) # Do not delete\n",
    "\n",
    "assert second_dictionary['a'] == 81   # Do not delete\n",
    "assert second_dictionary['c'] == 49   # Do not delete"
   ]
  },
  {
   "cell_type": "markdown",
   "metadata": {},
   "source": [
    "## Question 6: Data Science Modules (1 point)\n",
    "\n",
    "This question is just about importing the more core data science modules. We won't start using them yet.\n",
    "\n",
    "This is just to test that you have them available and working (this is the only time we'll ask you to write out your own import modules in assignments).\n",
    "\n",
    "If you have not loaded those modules into your envoirnment yet, you can run the `!pip install < package name >` commmand. \n",
    "\n",
    "If you are unable to import them, ask for help in office hours.\n",
    "\n",
    "Import the numpy, scipy, pandas, matplotlib.pyplot, sklearn modules as np, sp, pd, plt, skl, respectively."
   ]
  },
  {
   "cell_type": "code",
   "execution_count": 25,
   "metadata": {},
   "outputs": [
    {
     "name": "stdout",
     "output_type": "stream",
     "text": [
      "Requirement already satisfied: numpy in c:\\users\\smotp\\anaconda3\\lib\\site-packages (1.26.4)\n",
      "Note: you may need to restart the kernel to use updated packages.\n",
      "Requirement already satisfied: scipy in c:\\users\\smotp\\anaconda3\\lib\\site-packages (1.13.0)\n",
      "Requirement already satisfied: numpy<2.3,>=1.22.4 in c:\\users\\smotp\\anaconda3\\lib\\site-packages (from scipy) (1.26.4)\n",
      "Note: you may need to restart the kernel to use updated packages.\n",
      "Requirement already satisfied: pandas in c:\\users\\smotp\\anaconda3\\lib\\site-packages (2.2.1)\n",
      "Requirement already satisfied: numpy<2,>=1.23.2 in c:\\users\\smotp\\anaconda3\\lib\\site-packages (from pandas) (1.26.4)\n",
      "Requirement already satisfied: python-dateutil>=2.8.2 in c:\\users\\smotp\\anaconda3\\lib\\site-packages (from pandas) (2.8.2)\n",
      "Requirement already satisfied: pytz>=2020.1 in c:\\users\\smotp\\anaconda3\\lib\\site-packages (from pandas) (2024.1)\n",
      "Requirement already satisfied: tzdata>=2022.7 in c:\\users\\smotp\\anaconda3\\lib\\site-packages (from pandas) (2023.3)\n",
      "Requirement already satisfied: six>=1.5 in c:\\users\\smotp\\anaconda3\\lib\\site-packages (from python-dateutil>=2.8.2->pandas) (1.16.0)\n",
      "Note: you may need to restart the kernel to use updated packages.\n",
      "Requirement already satisfied: matplotlib in c:\\users\\smotp\\anaconda3\\lib\\site-packages (3.8.4)\n",
      "Requirement already satisfied: contourpy>=1.0.1 in c:\\users\\smotp\\anaconda3\\lib\\site-packages (from matplotlib) (1.2.0)\n",
      "Requirement already satisfied: cycler>=0.10 in c:\\users\\smotp\\anaconda3\\lib\\site-packages (from matplotlib) (0.11.0)\n",
      "Requirement already satisfied: fonttools>=4.22.0 in c:\\users\\smotp\\anaconda3\\lib\\site-packages (from matplotlib) (4.51.0)\n",
      "Requirement already satisfied: kiwisolver>=1.3.1 in c:\\users\\smotp\\anaconda3\\lib\\site-packages (from matplotlib) (1.4.4)\n",
      "Requirement already satisfied: numpy>=1.21 in c:\\users\\smotp\\anaconda3\\lib\\site-packages (from matplotlib) (1.26.4)\n",
      "Requirement already satisfied: packaging>=20.0 in c:\\users\\smotp\\anaconda3\\lib\\site-packages (from matplotlib) (23.2)\n",
      "Requirement already satisfied: pillow>=8 in c:\\users\\smotp\\anaconda3\\lib\\site-packages (from matplotlib) (10.3.0)\n",
      "Requirement already satisfied: pyparsing>=2.3.1 in c:\\users\\smotp\\anaconda3\\lib\\site-packages (from matplotlib) (3.0.9)\n",
      "Requirement already satisfied: python-dateutil>=2.7 in c:\\users\\smotp\\anaconda3\\lib\\site-packages (from matplotlib) (2.8.2)\n",
      "Requirement already satisfied: six>=1.5 in c:\\users\\smotp\\anaconda3\\lib\\site-packages (from python-dateutil>=2.7->matplotlib) (1.16.0)\n",
      "Note: you may need to restart the kernel to use updated packages.\n",
      "Note: you may need to restart the kernel to use updated packages.\n"
     ]
    },
    {
     "name": "stderr",
     "output_type": "stream",
     "text": [
      "ERROR: unknown command \"installscikitlearn\"\n",
      "\n"
     ]
    }
   ],
   "source": [
    "# YOUR CODE HERE\n",
    "%pip install numpy\n",
    "%pip install scipy\n",
    "%pip install pandas\n",
    "%pip install matplotlib\n",
    "\n"
   ]
  },
  {
   "cell_type": "code",
   "execution_count": 28,
   "metadata": {},
   "outputs": [
    {
     "name": "stdout",
     "output_type": "stream",
     "text": [
      "Requirement already satisfied: scikit-learn in c:\\users\\smotp\\anaconda3\\lib\\site-packages (1.4.2)\n",
      "Requirement already satisfied: numpy>=1.19.5 in c:\\users\\smotp\\anaconda3\\lib\\site-packages (from scikit-learn) (1.26.4)\n",
      "Requirement already satisfied: scipy>=1.6.0 in c:\\users\\smotp\\anaconda3\\lib\\site-packages (from scikit-learn) (1.13.0)\n",
      "Requirement already satisfied: joblib>=1.2.0 in c:\\users\\smotp\\anaconda3\\lib\\site-packages (from scikit-learn) (1.4.0)\n",
      "Requirement already satisfied: threadpoolctl>=2.0.0 in c:\\users\\smotp\\anaconda3\\lib\\site-packages (from scikit-learn) (2.2.0)\n",
      "Note: you may need to restart the kernel to use updated packages.\n"
     ]
    }
   ],
   "source": [
    "%pip install scikit-learn"
   ]
  },
  {
   "cell_type": "code",
   "execution_count": 30,
   "metadata": {},
   "outputs": [],
   "source": [
    "import numpy as np \n",
    "import pandas as pd \n",
    "import scipy as sp \n",
    "import matplotlib.pyplot as plt\n",
    "import sklearn as skl"
   ]
  },
  {
   "cell_type": "code",
   "execution_count": 31,
   "metadata": {},
   "outputs": [],
   "source": [
    "# Tests for Q6\n",
    "assert(np.array)        # Do not delete\n",
    "assert(sp.integrate)      # Do not delete\n",
    "assert(pd.DataFrame)    # Do not delete\n",
    "assert(plt.plot)        # Do not delete\n",
    "assert(skl.set_config)  # Do not delete"
   ]
  },
  {
   "cell_type": "markdown",
   "metadata": {},
   "source": [
    "## Question 7: Basic Matrix Operations (4 point)\n",
    "Define,\n",
    "$$ A = \\begin{bmatrix} 3&5&2 \\\\ 6&1&7 \\\\ 2&5&2 \\end{bmatrix} $$\n",
    "$$ b = \\begin{bmatrix} 1 \\\\ 1 \\\\ 1 \\end{bmatrix} $$\n",
    "$$ Y = \\begin{bmatrix} 4 \\\\ 3 \\\\ 2 \\end{bmatrix} $$ \n",
    "$$ Ax+b = Y $$ \n",
    "\n",
    "Find x.\n",
    "\n",
    "Hint: use numpy.linalg.inv and the @ operator for matrix multiplication."
   ]
  },
  {
   "cell_type": "code",
   "execution_count": 34,
   "metadata": {},
   "outputs": [
    {
     "name": "stdout",
     "output_type": "stream",
     "text": [
      "[ 1.         -0.87878788 -2.3030303 ]\n"
     ]
    }
   ],
   "source": [
    "# YOUR CODE HERE\n",
    "A = np.array([[3, 5, 2], [6, 1, 7], [2, 5, 2]])\n",
    "\n",
    "b = np.array([1, 1, 1])\n",
    "\n",
    "Y = np.array([4, 3, 2])\n",
    "\n",
    "x = np.linalg.inv(A) @ Y - b\n",
    "\n",
    "\n",
    "print(x)                         # Do not delete\n",
    "assert isinstance(x, np.ndarray) # Do not delete"
   ]
  },
  {
   "cell_type": "markdown",
   "metadata": {},
   "source": [
    "## Question 8: Data Manipulation (5 points)\n",
    "In this question, we will be using the Iris dataset. First, you need to obtain the dataset by running `from sklearn import datasets` and `iris = datasets.load_iris()`. \n",
    "\n",
    "1. Print the shape of the dataset. You will see that the dataset has 150 sample and each sample has 4 features.(Note: the `load_iris` method returns a dictionary-like object and the dataset is store in one of the object attributes) (0.5 point)\n"
   ]
  },
  {
   "cell_type": "code",
   "execution_count": 42,
   "metadata": {},
   "outputs": [
    {
     "name": "stdout",
     "output_type": "stream",
     "text": [
      "(150, 4)\n"
     ]
    }
   ],
   "source": [
    "# YOUR CODE HERE\n",
    "\n",
    "from sklearn import datasets \n",
    "\n",
    "iris = datasets.load_iris()\n",
    "iris = pd.DataFrame(iris['data'])\n",
    "print(iris.shape)"
   ]
  },
  {
   "cell_type": "markdown",
   "metadata": {},
   "source": [
    "2. Print the last three samples of the dataset. (0.5 point)"
   ]
  },
  {
   "cell_type": "code",
   "execution_count": 45,
   "metadata": {},
   "outputs": [
    {
     "name": "stdout",
     "output_type": "stream",
     "text": [
      "       0    1    2    3\n",
      "147  6.5  3.0  5.2  2.0\n",
      "148  6.2  3.4  5.4  2.3\n",
      "149  5.9  3.0  5.1  1.8\n"
     ]
    }
   ],
   "source": [
    "# YOUR CODE HERE\n",
    "\n",
    "print(iris.iloc[-3::1])"
   ]
  },
  {
   "cell_type": "markdown",
   "metadata": {},
   "source": [
    "3. Perform a linear projection on the samples using vector $w = [1,2,3,4]$. We can do this by calculating the dot product between the data points and the vector $w$. The shape of the output vector should be (150,) or (150,1). Find and print the mean of the projected vector. Hint: You can use numpy.dot for calculating the dot product.  This problem can be done using a single line of code. (2 points)"
   ]
  },
  {
   "cell_type": "code",
   "execution_count": 46,
   "metadata": {},
   "outputs": [
    {
     "name": "stdout",
     "output_type": "stream",
     "text": [
      "28.029333333333337\n"
     ]
    }
   ],
   "source": [
    "# YOUR CODE HERE\n",
    "print(np.mean(np.dot(iris, [1,2,3,4])))"
   ]
  },
  {
   "cell_type": "markdown",
   "metadata": {},
   "source": [
    "4. Randomly select 3 samples (rows) from the dataset. Print the indices and the selected data points. Hint: use numpy.random.randint to sample the indices. (1 point)"
   ]
  },
  {
   "cell_type": "code",
   "execution_count": 53,
   "metadata": {},
   "outputs": [
    {
     "name": "stdout",
     "output_type": "stream",
     "text": [
      "      0    1    2    3\n",
      "6   4.6  3.4  1.4  0.3\n",
      "69  5.6  2.5  3.9  1.1\n",
      "69  5.6  2.5  3.9  1.1\n"
     ]
    }
   ],
   "source": [
    "# YOUR CODE HERE\n",
    "print(iris.iloc[np.random.randint(0, iris.shape[0], size = 3)])"
   ]
  },
  {
   "cell_type": "markdown",
   "metadata": {},
   "source": [
    "5. Add one more feature (one more column) to the right side of the dataset. The value of the new feature for each sample is 1. Print the first 5 samples of the new dataset. (1 point) Hint: Use nupmy.ones and numpy.hstack. "
   ]
  },
  {
   "cell_type": "code",
   "execution_count": 64,
   "metadata": {},
   "outputs": [
    {
     "name": "stdout",
     "output_type": "stream",
     "text": [
      "<class 'numpy.ndarray'>\n"
     ]
    }
   ],
   "source": [
    "# YOUR CODE HERE  \n",
    "\n",
    "#iris = np.hstack((iris, np.ones((iris.shape[0], 1))))\n",
    "\n",
    "\n",
    "print(type(iris))"
   ]
  },
  {
   "cell_type": "markdown",
   "metadata": {},
   "source": [
    "## Question 9: Data Presentation (1 point)\n",
    "Use Matplotlib to plot the samples on a 2D plot. Use the values of the first and second features as the x and y coordinates. Make sure it is a scatter plot. "
   ]
  },
  {
   "cell_type": "code",
   "execution_count": 65,
   "metadata": {},
   "outputs": [
    {
     "data": {
      "text/plain": [
       "<matplotlib.collections.PathCollection at 0x243cb2276d0>"
      ]
     },
     "execution_count": 65,
     "metadata": {},
     "output_type": "execute_result"
    },
    {
     "data": {
      "image/png": "[encoded data removed]",
      "text/plain": [
       "<Figure size 640x480 with 1 Axes>"
      ]
     },
     "metadata": {},
     "output_type": "display_data"
    }
   ],
   "source": [
    "# YOUR CODE HERE  \n",
    "\n",
    "plt.scatter(x = iris[:, 0], y = iris[:, 1])"
   ]
  },
  {
   "cell_type": "markdown",
   "metadata": {},
   "source": [
    "## Submission:\n",
    "Please submit your notebook (.ipynb file) and an exported PDF copy in a zipped folder on GradeScope under the correct assignment with all of the cell outputs visible. \n"
   ]
  },
  {
   "cell_type": "markdown",
   "metadata": {},
   "source": []
  }
 ],
 "metadata": {
  "kernelspec": {
   "display_name": "Python 3.9.5 ('base')",
   "language": "python",
   "name": "python3"
  },
  "language_info": {
   "codemirror_mode": {
    "name": "ipython",
    "version": 3
   },
   "file_extension": ".py",
   "mimetype": "text/x-python",
   "name": "python",
   "nbconvert_exporter": "python",
   "pygments_lexer": "ipython3",
   "version": "3.11.7"
  },
  "vscode": {
   "interpreter": {
    "hash": "77eee26a74623a023872d1bc89eff3417ddfa96c1608d48d76f7b381bf2c2567"
   }
  }
 },
 "nbformat": 4,
 "nbformat_minor": 2
}
