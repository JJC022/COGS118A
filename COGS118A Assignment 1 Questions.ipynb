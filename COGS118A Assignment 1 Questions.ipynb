{
 "cells": [
  {
   "attachments": {},
   "cell_type": "markdown",
   "metadata": {},
   "source": [
    "# COGS 118A - Assignment 1: KNN"
   ]
  },
  {
   "attachments": {},
   "cell_type": "markdown",
   "metadata": {},
   "source": [
    "\n",
    "\n",
    "The goal of this assignment is to be able to use Python to build a KNN model that is suitable for a given classification task. "
   ]
  },
  {
   "attachments": {},
   "cell_type": "markdown",
   "metadata": {},
   "source": [
    "#### Part 1.  \n",
    "Build a KNN to do handwritten digits prediction. The data consists of grey scale images of handwritten digits. Each image is a set of pixels stored as a vector. "
   ]
  },
  {
   "cell_type": "code",
   "execution_count": 1,
   "metadata": {},
   "outputs": [],
   "source": [
    "\n",
    "from sklearn.datasets import load_digits, load_wine\n",
    "import numpy as np\n",
    "import matplotlib.pyplot as plt\n",
    "import pandas as pd\n",
    "import numpy as np\n",
    "import sklearn.datasets\n",
    "import numpy as np\n",
    "import pandas as pd\n",
    "from sklearn.model_selection import train_test_split\n",
    "from sklearn.metrics import  accuracy_score\n",
    "import matplotlib.pyplot as plt\n",
    "from sklearn.model_selection import KFold\n",
    "%matplotlib inline"
   ]
  },
  {
   "attachments": {},
   "cell_type": "markdown",
   "metadata": {},
   "source": [
    "Load the MNIST dataset. (Can take up to 3 minutes.) `x` stores the images and `y` stores the labels. For an image i, $x_{i}$ is a vector of its pixel values, and $y_{i}$ is its label. $y_{i} \\in [1,2,3,4,5,6,7,8,9,0] $ ."
   ]
  },
  {
   "cell_type": "code",
   "execution_count": 2,
   "metadata": {},
   "outputs": [],
   "source": [
    "mnist = sklearn.datasets.fetch_openml('mnist_784')\n",
    "x = mnist.data.to_numpy(dtype= np.int64)\n",
    "y = mnist.target.to_numpy(dtype= np.int64)\n"
   ]
  },
  {
   "attachments": {},
   "cell_type": "markdown",
   "metadata": {},
   "source": [
    "Separate training and testing data randomly."
   ]
  },
  {
   "cell_type": "code",
   "execution_count": 3,
   "metadata": {},
   "outputs": [
    {
     "name": "stdout",
     "output_type": "stream",
     "text": [
      "(2000, 784)\n",
      "(500, 784)\n",
      "(2000,)\n",
      "(500,)\n"
     ]
    }
   ],
   "source": [
    "X_train, X_test, Y_train, Y_test = train_test_split(\n",
    "    x[:2500], y[:2500], test_size=0.2, random_state=123, stratify=y[:2500])\n",
    "print(X_train.shape)\n",
    "print(X_test.shape)\n",
    "print(Y_train.shape)\n",
    "print(Y_test.shape)\n"
   ]
  },
  {
   "attachments": {},
   "cell_type": "markdown",
   "metadata": {},
   "source": [
    "#### 1.1 (5 points)\n",
    "\n",
    "For convinence, we have created a class object `knn` for storing our KNN model. Please fill in the missing instance methods. You are free to modify the input parameters. Make sure your code outputs the responses our questions ask for. \n",
    "\n",
    "Instance method `fit` is the training process. For KNN it is simply storing the training dataset.\n",
    "\n",
    "Instance method `distance` is a function that takes in two vectors (samples of data) and returns the distance between the two vectors. (1.5 points)\n",
    "\n",
    "Hint: Try your best to avoid using for loops in `self.distance`. Or it would take too long for KNN to compute. \n",
    "\n",
    "Instance method `predict` uses KNN method to predict a given set of digit images. If the input is a N by d dimensional matrix, where d is the number of features and N is the number of samples, the output should be an N dimensional vector. (3 points)\n",
    "\n",
    "Hint: Here are some useful numpy functions to help you achieve your goal: np.square, np.sqrt, np.zeros, np.ones, np.argsort, np.bincount, np.linalg.norm, np.dot, np.equal,np.mean, np.argmax \n",
    "\n",
    "Instance method `score` produces the accuracy of the KNN model when running on a test dataset. Accuracy is the precentage of the test data that is correctly classified. (Hint: you will first need to call `self.predict` to label the input test data.) (0.5 points)\n"
   ]
  },
  {
   "cell_type": "code",
   "execution_count": 20,
   "metadata": {},
   "outputs": [],
   "source": [
    "class knn:\n",
    "\tdef __init__(self, k):\n",
    "\t\tself.k = k\n",
    "\t\tself.X_train = None\n",
    "\t\tself.Y_train = None\n",
    "\n",
    "\tdef fit(self, X, Y):\n",
    "\t\tself.X_train = X\n",
    "\t\tself.Y_train = Y\n",
    "\n",
    "\tdef distance(self, x1, x2):\n",
    "\n",
    "\t\t# returns the distance between two vectors\n",
    "\t\t# the distance is the L2 norm\n",
    "\t\t# your solution here  \n",
    "\t\t# problem 1.1.1 , 1.5 points\n",
    "\t\tif x1.shape != x2.shape:\n",
    "\t\t\traise ValueError('vectors must be of the same shape')\n",
    "\t\t#x1, x2 = np.linalg.norm(x1, x2)\n",
    "\t\tnormed_difference_vec = np.sqrt(np.square((x1 - x2)))\n",
    "\t\tones = np.ones(x1.shape)\n",
    "\t\tdistance = np.dot(normed_difference_vec, ones)\n",
    "\t\treturn distance \n",
    "\t\n",
    "\t\n",
    "\tdef predict(self, x_test):\n",
    "\t\t# returns the predictions for multiple examples X\n",
    "\t\t# your solution here\n",
    "\t\t# problem 1.1.2 , 3 points\n",
    "\t\tpredictions = []\n",
    "\t\tfor i in np.array(x_test): \n",
    "\t\t\tdistances = [self.distance(i, x) for x in self.X_train ]\n",
    "\t\t\tk_nearest_indices = np.argsort(distances)[:self.k]\n",
    "\t\t\t#print(f\"k_nearest_indices:{k_nearest_indices}\")\n",
    "\t\t\tk_nearest_labels = self.Y_train[k_nearest_indices]\n",
    "\t\t\t#print(f\"k_nearest_labels.shape: {k_nearest_labels.shape}\")\n",
    "\t\t\t#print(f\"Y_train.shape: {self.Y_train.shape}\")\n",
    "\t\t\tprediction  = np.bincount(k_nearest_labels).argmax()\n",
    "\t\t\tpredictions.append(prediction)\n",
    "\n",
    "\t\treturn predictions\n",
    "\n",
    "\tdef score(self, x_test, y_test):\n",
    "\t\t# Return the accuracy of your model on the test data.\n",
    "\t\t# problem 1.1.3, 0.5 point\n",
    "\t\t\n",
    "\t\tpredictions = self.predict(x_test)\n",
    "\t\tprint(f\"predictions:{predictions}\")\n",
    "\t\taccuracy_mask = np.equal(predictions, y_test)\n",
    "\t\tscore = np.mean(accuracy_mask)\n",
    "\n",
    "\t\treturn score \n",
    "\t\n",
    "\tdef training_accuracy(self, x_train, y_train): \n",
    "\t\tpredictions = self.predict(x_train)\n",
    "\t\taccuracy_mask = np.equal(predictions, y_train)\n",
    "\t\taccuracy = np.mean(accuracy_mask)\n",
    "\n",
    "\t\treturn accuracy\n",
    "\n",
    "\t\t\n",
    "\t\t\t\t\n",
    "\n",
    "\n",
    "\t\t"
   ]
  },
  {
   "attachments": {},
   "cell_type": "markdown",
   "metadata": {},
   "source": [
    "Compare the accuracy using our KNN model with the accuracy using Sklearn KNN to see if we have implemented correctly. The two accuracy scores should be fairly close."
   ]
  },
  {
   "cell_type": "code",
   "execution_count": 5,
   "metadata": {},
   "outputs": [
    {
     "name": "stdout",
     "output_type": "stream",
     "text": [
      "sklearn_knn_score: 0.912\n",
      "predictions:[0, 8, 6, 4, 4, 5, 1, 5, 1, 1, 7, 0, 4, 1, 0, 9, 3, 7, 5, 6, 7, 6, 1, 0, 6, 7, 4, 9, 2, 7, 1, 9, 3, 3, 8, 5, 1, 3, 5, 9, 2, 5, 0, 1, 6, 0, 4, 7, 0, 3, 3, 9, 2, 7, 7, 9, 1, 6, 8, 3, 8, 7, 9, 6, 8, 3, 9, 7, 3, 9, 2, 8, 7, 2, 3, 8, 9, 8, 7, 1, 7, 4, 1, 1, 9, 4, 0, 8, 7, 7, 8, 8, 5, 9, 8, 1, 0, 8, 2, 7, 0, 4, 1, 7, 5, 1, 2, 8, 1, 4, 8, 1, 6, 6, 3, 4, 5, 2, 1, 6, 6, 5, 7, 4, 1, 5, 0, 5, 5, 9, 9, 1, 5, 8, 4, 5, 6, 3, 7, 3, 1, 7, 4, 2, 7, 4, 3, 2, 4, 2, 1, 9, 4, 9, 1, 4, 0, 9, 1, 6, 8, 6, 1, 9, 1, 7, 5, 6, 1, 0, 7, 1, 3, 3, 6, 4, 0, 0, 5, 7, 3, 6, 2, 0, 5, 4, 6, 1, 1, 0, 7, 3, 5, 7, 7, 7, 9, 1, 2, 9, 0, 1, 8, 2, 7, 6, 6, 5, 0, 9, 6, 8, 2, 5, 4, 3, 2, 1, 8, 1, 3, 3, 7, 7, 6, 9, 5, 2, 7, 1, 0, 8, 4, 3, 9, 1, 0, 5, 3, 3, 9, 1, 9, 2, 4, 0, 5, 0, 1, 5, 7, 4, 3, 2, 0, 4, 9, 1, 1, 3, 6, 4, 7, 6, 2, 0, 6, 9, 4, 1, 1, 0, 1, 9, 1, 7, 8, 4, 8, 3, 4, 6, 4, 2, 6, 9, 0, 1, 3, 8, 3, 5, 4, 7, 5, 0, 1, 4, 0, 2, 1, 2, 5, 4, 5, 7, 1, 6, 9, 0, 0, 4, 2, 4, 6, 0, 0, 3, 0, 4, 9, 0, 9, 3, 5, 7, 7, 2, 1, 1, 8, 3, 1, 5, 5, 8, 0, 6, 2, 9, 1, 5, 1, 1, 6, 2, 7, 4, 1, 1, 7, 6, 9, 2, 5, 3, 9, 9, 0, 2, 2, 1, 7, 6, 2, 1, 9, 6, 1, 4, 1, 9, 6, 7, 1, 7, 9, 0, 9, 6, 0, 5, 3, 4, 8, 4, 6, 6, 9, 0, 2, 7, 8, 6, 8, 2, 4, 1, 0, 5, 7, 8, 1, 5, 2, 5, 0, 9, 1, 0, 1, 6, 2, 5, 4, 3, 4, 3, 1, 8, 7, 5, 4, 9, 7, 6, 3, 4, 1, 0, 8, 3, 6, 3, 3, 0, 2, 9, 7, 4, 3, 5, 4, 4, 8, 3, 8, 6, 3, 0, 3, 7, 3, 9, 0, 6, 1, 6, 9, 0, 3, 4, 5, 6, 6, 3, 6, 0, 1, 5, 2, 7, 7, 7, 9, 1, 3, 3, 0, 7, 5, 6, 1, 5, 2, 4, 9, 4, 9, 9, 8, 4, 8, 4, 6, 1, 4, 4, 7, 6]\n",
      "our_knn_score: 0.904\n"
     ]
    }
   ],
   "source": [
    "from sklearn.neighbors import KNeighborsClassifier\n",
    "sklearn_knn = KNeighborsClassifier(n_neighbors = 5)\n",
    "sklearn_knn.fit(X_train, Y_train)\n",
    "sklearn_knn_score = sklearn_knn.score(X_test, Y_test)\n",
    "print(\"sklearn_knn_score:\", sklearn_knn_score)\n",
    "\n",
    "our_knn = knn(k = 5)\n",
    "our_knn.fit(X_train, Y_train)\n",
    "our_knn_score = our_knn.score(X_test, Y_test)\n",
    "print(\"our_knn_score:\", our_knn_score)\n"
   ]
  },
  {
   "attachments": {},
   "cell_type": "markdown",
   "metadata": {},
   "source": [
    "Let's visualize the images that are being misclassifed and compare that to the ones that are correctly classifed. This will help us to see the potential problems of our model. You can change the code below to see more images."
   ]
  },
  {
   "cell_type": "code",
   "execution_count": 6,
   "metadata": {},
   "outputs": [],
   "source": [
    "Y_pred = our_knn.predict(X_test)\n",
    "\n",
    "incorrect = [i for i, x in enumerate(Y_pred!=Y_test) if x]\n",
    "correct = [i for i, x in enumerate(Y_pred==Y_test) if x]"
   ]
  },
  {
   "cell_type": "code",
   "execution_count": 7,
   "metadata": {},
   "outputs": [
    {
     "data": {
      "image/png": "[encoded data removed]",
      "text/plain": [
       "<Figure size 2000x2000 with 8 Axes>"
      ]
     },
     "metadata": {},
     "output_type": "display_data"
    }
   ],
   "source": [
    "NUM_OF_IMAGES = 8 # number of images to display\n",
    "_, axes = plt.subplots(nrows=1, ncols=NUM_OF_IMAGES, figsize=(20, 20))\n",
    "START = 0 # start index of the images to display\n",
    "for ax, ind in zip(axes, list(range(START,START+NUM_OF_IMAGES))):\n",
    "    ax.set_axis_off()\n",
    "    image = X_test[incorrect[ind]].reshape(28, 28)\n",
    "    ax.imshow(image, cmap=plt.cm.gray_r, interpolation=\"nearest\")\n",
    "    ax.set_title(f\"Prediction: {Y_pred[incorrect[ind]]}\")\n"
   ]
  },
  {
   "cell_type": "code",
   "execution_count": 8,
   "metadata": {},
   "outputs": [
    {
     "data": {
      "image/png": "[encoded data removed]",
      "text/plain": [
       "<Figure size 2000x2000 with 8 Axes>"
      ]
     },
     "metadata": {},
     "output_type": "display_data"
    }
   ],
   "source": [
    "\n",
    "_, axes = plt.subplots(nrows=1, ncols=NUM_OF_IMAGES, figsize=(20, 20))\n",
    "START = 120 # start index of the images to display\n",
    "for ax, ind in zip(axes, list(range(START,START+NUM_OF_IMAGES))):\n",
    "    ax.set_axis_off()\n",
    "    image = X_test[correct[ind]].reshape(28, 28)\n",
    "    ax.imshow(image, cmap=plt.cm.gray_r, interpolation=\"nearest\")\n",
    "    ax.set_title(f\"Prediction: {Y_pred[correct[ind]]}\")"
   ]
  },
  {
   "attachments": {},
   "cell_type": "markdown",
   "metadata": {},
   "source": [
    "#### 1.2 (4 points)\n",
    "\n",
    "\n",
    "Test the training and test accuracy using any sets of k values ($k \\in \\mathbb{Z}^{+}$, at least 5 k values in your set)  and plot the results with the x axis as the values of the k values you picked and the y axis as the accuracies. \n",
    "You can plot it on two seperate graphs or on the same one. Make sure clearly label which one is for the training accuracy and which one is for the test accuracy. The type of graph you choose has to clearly indicate the trend you observe.\n",
    "\n",
    "Good time to grab a coffee if it takes too long to run. \n",
    "\n",
    "NOTE: Use the KNN model you built for this task. For generating training accuracy, you can add a new method similar to the `score` method but outputs training accuracy instead of test. \n",
    "\n",
    "\n",
    "Plot(s) (2 point)\n",
    "\n",
    "**Answer the below questions**\n",
    "\n",
    "What is the trend of your plot?        (1 point) <br/>\n",
    "Answer: \n",
    "\n",
    "Which k value produces the optimal results? (Which k produces the highest test accuracy?)    (1 point)<br/>\n",
    "Answer: \n"
   ]
  },
  {
   "cell_type": "code",
   "execution_count": 9,
   "metadata": {},
   "outputs": [
    {
     "name": "stdout",
     "output_type": "stream",
     "text": [
      "X_train.shape: (2000, 784)\n",
      "predictions:[0, 8, 6, 4, 4, 3, 7, 5, 1, 1, 7, 0, 4, 1, 0, 9, 3, 7, 5, 6, 7, 6, 1, 0, 6, 7, 4, 9, 2, 7, 1, 9, 8, 3, 8, 5, 1, 3, 5, 9, 2, 4, 0, 1, 6, 0, 4, 7, 0, 3, 3, 9, 2, 7, 7, 9, 1, 6, 8, 3, 8, 7, 9, 6, 8, 3, 9, 7, 3, 9, 2, 8, 7, 2, 2, 8, 9, 8, 7, 1, 7, 9, 1, 1, 9, 4, 2, 8, 7, 7, 8, 3, 5, 9, 8, 1, 0, 8, 2, 7, 0, 4, 1, 7, 5, 1, 2, 8, 4, 4, 8, 1, 6, 6, 3, 4, 5, 2, 1, 6, 6, 5, 7, 4, 1, 5, 0, 5, 5, 9, 9, 1, 5, 8, 9, 3, 6, 3, 7, 3, 1, 7, 4, 2, 7, 4, 3, 2, 4, 2, 1, 9, 4, 9, 1, 4, 0, 9, 2, 6, 8, 6, 9, 9, 1, 7, 5, 6, 1, 0, 7, 1, 3, 3, 6, 4, 0, 0, 5, 7, 3, 6, 2, 0, 5, 4, 6, 1, 1, 0, 7, 3, 5, 7, 7, 7, 7, 1, 2, 9, 0, 1, 8, 2, 9, 6, 6, 5, 0, 9, 6, 8, 2, 5, 4, 3, 2, 1, 8, 1, 3, 3, 7, 7, 6, 9, 5, 2, 7, 1, 0, 8, 4, 3, 9, 1, 0, 5, 3, 3, 9, 1, 9, 2, 9, 0, 5, 0, 1, 5, 7, 4, 3, 2, 0, 4, 9, 1, 1, 3, 6, 9, 7, 6, 2, 0, 6, 9, 4, 1, 1, 0, 1, 9, 1, 7, 8, 4, 9, 3, 4, 6, 4, 4, 6, 7, 0, 1, 3, 8, 3, 5, 4, 7, 5, 0, 2, 4, 0, 2, 1, 2, 5, 4, 5, 7, 1, 6, 7, 0, 0, 4, 2, 4, 6, 0, 0, 3, 6, 4, 9, 0, 9, 3, 5, 7, 7, 2, 1, 1, 8, 3, 1, 5, 5, 8, 0, 6, 2, 9, 1, 5, 1, 1, 6, 2, 7, 4, 1, 1, 4, 6, 9, 2, 5, 3, 9, 9, 0, 2, 2, 1, 7, 6, 2, 1, 9, 6, 1, 4, 1, 9, 6, 7, 1, 7, 2, 0, 9, 6, 0, 5, 3, 8, 8, 4, 6, 6, 9, 0, 2, 7, 8, 6, 8, 2, 4, 1, 0, 5, 7, 8, 1, 5, 2, 5, 0, 9, 1, 0, 1, 6, 2, 5, 4, 3, 8, 3, 1, 8, 7, 5, 4, 9, 7, 6, 3, 4, 2, 0, 8, 3, 6, 3, 3, 0, 2, 8, 7, 4, 3, 5, 4, 4, 8, 3, 8, 6, 3, 0, 3, 7, 3, 9, 0, 6, 1, 6, 9, 0, 3, 4, 5, 6, 6, 3, 6, 0, 1, 5, 2, 7, 7, 7, 9, 1, 3, 3, 0, 7, 5, 6, 1, 5, 2, 4, 9, 4, 9, 9, 8, 4, 8, 4, 6, 1, 4, 4, 7, 6]\n",
      "X_train.shape: (2000, 784)\n",
      "predictions:[0, 8, 6, 4, 4, 3, 1, 5, 1, 1, 7, 0, 4, 1, 0, 9, 3, 2, 5, 6, 7, 6, 1, 0, 6, 7, 4, 9, 0, 7, 1, 9, 5, 3, 8, 5, 1, 3, 5, 9, 0, 4, 0, 1, 6, 0, 4, 7, 0, 3, 3, 9, 2, 7, 7, 4, 1, 6, 8, 3, 8, 7, 9, 6, 3, 3, 9, 7, 3, 9, 2, 8, 7, 2, 2, 8, 9, 8, 7, 1, 7, 4, 1, 1, 9, 4, 0, 8, 7, 7, 8, 3, 5, 9, 8, 1, 0, 8, 2, 7, 0, 4, 1, 7, 5, 1, 2, 8, 1, 4, 5, 1, 6, 6, 3, 4, 5, 2, 1, 6, 6, 5, 7, 4, 1, 5, 0, 5, 5, 9, 9, 1, 5, 8, 9, 3, 6, 3, 7, 3, 1, 7, 4, 2, 7, 4, 3, 2, 4, 2, 1, 7, 4, 9, 1, 4, 0, 9, 2, 6, 8, 6, 1, 9, 1, 7, 5, 6, 1, 0, 7, 1, 3, 3, 6, 4, 0, 0, 5, 7, 3, 6, 2, 0, 5, 4, 6, 1, 1, 0, 7, 3, 5, 7, 7, 7, 7, 1, 2, 9, 0, 1, 8, 2, 7, 6, 6, 5, 0, 9, 6, 8, 2, 5, 4, 3, 2, 1, 8, 1, 3, 3, 7, 7, 6, 9, 5, 2, 7, 1, 0, 8, 4, 3, 9, 1, 0, 5, 3, 3, 9, 1, 9, 2, 8, 0, 5, 0, 1, 5, 7, 4, 2, 2, 0, 4, 9, 1, 1, 3, 6, 9, 7, 6, 2, 0, 6, 9, 4, 1, 1, 0, 1, 9, 1, 7, 8, 4, 8, 3, 4, 6, 4, 2, 6, 7, 0, 1, 3, 7, 3, 5, 4, 7, 5, 0, 1, 4, 0, 2, 1, 2, 5, 4, 5, 7, 1, 6, 7, 0, 0, 4, 2, 4, 6, 0, 0, 3, 0, 4, 9, 0, 9, 3, 5, 7, 7, 2, 1, 1, 8, 3, 1, 5, 3, 8, 0, 6, 2, 9, 1, 5, 1, 1, 6, 2, 7, 4, 1, 1, 4, 6, 9, 2, 5, 3, 9, 9, 0, 2, 2, 1, 7, 6, 2, 1, 4, 6, 1, 4, 1, 9, 6, 7, 1, 7, 2, 0, 9, 6, 0, 5, 3, 4, 8, 4, 6, 6, 9, 0, 2, 7, 8, 6, 8, 2, 4, 1, 0, 5, 7, 8, 1, 5, 2, 5, 0, 7, 1, 0, 1, 6, 2, 5, 4, 3, 8, 3, 1, 3, 7, 5, 4, 9, 7, 6, 3, 4, 2, 0, 8, 3, 6, 3, 3, 0, 2, 8, 7, 4, 3, 5, 4, 4, 8, 3, 8, 6, 3, 0, 3, 7, 3, 9, 0, 6, 1, 6, 9, 0, 3, 4, 5, 6, 6, 3, 6, 0, 1, 5, 2, 7, 7, 7, 9, 1, 3, 3, 0, 7, 5, 6, 1, 5, 2, 4, 9, 4, 9, 9, 1, 4, 8, 4, 6, 1, 2, 4, 7, 6]\n",
      "X_train.shape: (2000, 784)\n",
      "predictions:[0, 8, 6, 4, 4, 5, 1, 5, 1, 1, 7, 0, 4, 1, 0, 9, 3, 7, 5, 6, 7, 6, 1, 0, 6, 7, 4, 9, 2, 7, 1, 9, 3, 3, 8, 5, 1, 3, 5, 9, 2, 0, 0, 1, 6, 0, 4, 7, 0, 3, 3, 9, 2, 7, 7, 9, 1, 6, 8, 3, 8, 7, 9, 6, 8, 3, 9, 7, 3, 9, 2, 8, 7, 2, 2, 8, 9, 8, 7, 1, 7, 4, 1, 1, 9, 4, 2, 8, 7, 7, 8, 8, 5, 9, 8, 1, 0, 8, 2, 7, 0, 4, 1, 7, 5, 1, 2, 8, 1, 4, 3, 1, 6, 6, 3, 4, 5, 2, 1, 6, 6, 5, 7, 4, 1, 5, 0, 5, 5, 9, 9, 1, 5, 8, 9, 5, 6, 3, 7, 3, 1, 7, 4, 2, 7, 4, 3, 2, 4, 2, 1, 9, 4, 9, 1, 4, 0, 9, 1, 6, 8, 6, 1, 9, 1, 7, 5, 6, 1, 0, 7, 1, 3, 3, 6, 4, 0, 0, 5, 7, 3, 6, 2, 0, 5, 4, 6, 1, 1, 0, 7, 3, 5, 7, 7, 7, 9, 1, 2, 9, 0, 1, 8, 2, 7, 6, 6, 5, 0, 9, 6, 8, 2, 5, 4, 3, 2, 1, 8, 1, 3, 3, 7, 7, 6, 9, 5, 2, 7, 1, 0, 8, 4, 3, 9, 1, 0, 5, 3, 3, 9, 1, 9, 2, 4, 0, 5, 0, 1, 5, 7, 4, 2, 2, 0, 4, 9, 1, 1, 3, 6, 9, 7, 6, 2, 0, 6, 9, 4, 1, 1, 0, 1, 9, 1, 7, 8, 7, 8, 3, 4, 6, 4, 2, 6, 9, 0, 1, 3, 8, 3, 5, 4, 7, 5, 0, 1, 4, 0, 2, 1, 2, 5, 4, 5, 7, 1, 6, 7, 0, 0, 4, 2, 4, 6, 0, 0, 3, 0, 4, 9, 0, 9, 3, 5, 7, 7, 2, 1, 1, 8, 3, 1, 5, 5, 8, 0, 6, 2, 9, 1, 5, 1, 1, 6, 2, 7, 4, 1, 1, 7, 6, 9, 2, 5, 3, 9, 9, 0, 2, 2, 1, 7, 6, 2, 1, 9, 6, 1, 4, 1, 9, 6, 7, 1, 7, 9, 0, 9, 6, 0, 5, 3, 4, 8, 4, 6, 6, 9, 0, 2, 7, 8, 6, 8, 2, 4, 1, 0, 5, 7, 8, 1, 5, 2, 5, 0, 9, 1, 0, 1, 6, 2, 5, 4, 3, 8, 3, 1, 2, 7, 5, 4, 9, 7, 6, 3, 4, 2, 0, 8, 3, 6, 3, 3, 0, 2, 9, 7, 4, 3, 5, 4, 4, 8, 3, 8, 6, 3, 0, 3, 7, 3, 9, 0, 6, 1, 6, 9, 0, 3, 4, 5, 6, 6, 3, 6, 0, 1, 5, 2, 7, 7, 7, 9, 1, 3, 3, 0, 7, 5, 6, 1, 5, 2, 4, 9, 4, 9, 9, 8, 4, 8, 4, 6, 1, 2, 4, 7, 6]\n",
      "X_train.shape: (2000, 784)\n",
      "predictions:[0, 8, 6, 4, 4, 5, 1, 5, 1, 1, 7, 0, 4, 1, 0, 9, 3, 7, 5, 6, 7, 6, 1, 0, 6, 7, 4, 9, 0, 7, 1, 9, 5, 3, 8, 5, 1, 3, 5, 9, 2, 0, 0, 1, 6, 0, 4, 7, 0, 3, 3, 9, 2, 7, 7, 9, 1, 6, 8, 3, 8, 7, 9, 6, 3, 3, 9, 7, 3, 9, 2, 8, 7, 2, 0, 8, 7, 8, 7, 1, 7, 4, 1, 1, 9, 4, 0, 8, 7, 7, 8, 8, 5, 9, 8, 1, 0, 8, 2, 7, 0, 4, 1, 7, 5, 1, 2, 8, 1, 4, 8, 1, 6, 6, 3, 4, 5, 2, 1, 6, 6, 5, 7, 4, 1, 5, 0, 5, 5, 9, 9, 1, 5, 8, 4, 5, 6, 3, 7, 3, 1, 7, 4, 2, 7, 4, 3, 2, 4, 2, 1, 9, 4, 9, 1, 4, 0, 9, 1, 6, 8, 6, 1, 9, 1, 7, 5, 6, 1, 0, 7, 1, 3, 3, 6, 4, 0, 0, 5, 7, 3, 6, 2, 0, 5, 4, 6, 1, 1, 0, 7, 3, 5, 7, 7, 7, 9, 1, 2, 9, 0, 1, 8, 2, 7, 6, 6, 5, 0, 9, 6, 8, 2, 5, 4, 3, 2, 1, 8, 1, 3, 3, 7, 7, 6, 9, 5, 2, 7, 1, 0, 8, 4, 3, 9, 1, 0, 5, 3, 3, 9, 1, 9, 2, 9, 0, 5, 0, 1, 5, 7, 4, 3, 2, 0, 4, 9, 1, 1, 3, 6, 4, 7, 6, 2, 0, 6, 9, 4, 1, 1, 0, 1, 9, 1, 7, 8, 4, 8, 3, 4, 6, 4, 2, 6, 9, 0, 1, 3, 8, 3, 5, 4, 7, 5, 0, 1, 4, 0, 2, 1, 2, 5, 4, 5, 7, 1, 6, 7, 0, 0, 4, 2, 4, 6, 0, 0, 3, 0, 4, 9, 0, 9, 3, 5, 7, 7, 2, 1, 1, 8, 3, 1, 5, 5, 8, 0, 6, 2, 9, 1, 5, 1, 1, 6, 2, 7, 4, 1, 1, 7, 6, 9, 2, 5, 3, 9, 9, 0, 2, 2, 1, 7, 6, 2, 1, 9, 6, 1, 6, 1, 9, 6, 7, 1, 7, 2, 0, 9, 6, 0, 5, 3, 4, 8, 4, 6, 6, 9, 0, 2, 7, 8, 6, 8, 2, 4, 1, 0, 5, 7, 8, 1, 5, 2, 5, 0, 7, 1, 0, 1, 6, 2, 5, 4, 3, 8, 3, 1, 8, 7, 5, 4, 9, 7, 6, 3, 4, 1, 0, 8, 3, 6, 3, 3, 0, 2, 9, 7, 4, 3, 5, 4, 4, 8, 3, 8, 6, 3, 0, 3, 7, 3, 9, 0, 6, 1, 6, 9, 0, 3, 4, 5, 6, 6, 3, 6, 0, 1, 5, 2, 7, 7, 7, 9, 1, 3, 3, 0, 7, 5, 6, 1, 5, 2, 4, 9, 4, 9, 9, 8, 4, 8, 4, 6, 1, 4, 4, 7, 6]\n",
      "X_train.shape: (2000, 784)\n",
      "predictions:[0, 8, 6, 4, 4, 5, 1, 5, 1, 1, 7, 0, 4, 1, 0, 9, 3, 7, 5, 6, 7, 6, 1, 0, 6, 7, 4, 9, 2, 7, 1, 9, 3, 3, 8, 5, 1, 3, 5, 9, 2, 5, 0, 1, 6, 0, 4, 7, 0, 3, 3, 9, 2, 7, 7, 9, 1, 6, 8, 3, 8, 7, 9, 6, 8, 3, 9, 7, 3, 9, 2, 8, 7, 2, 3, 8, 9, 8, 7, 1, 7, 4, 1, 1, 9, 4, 0, 8, 7, 7, 8, 8, 5, 9, 8, 1, 0, 8, 2, 7, 0, 4, 1, 7, 5, 1, 2, 8, 1, 4, 8, 1, 6, 6, 3, 4, 5, 2, 1, 6, 6, 5, 7, 4, 1, 5, 0, 5, 5, 9, 9, 1, 5, 8, 4, 5, 6, 3, 7, 3, 1, 7, 4, 2, 7, 4, 3, 2, 4, 2, 1, 9, 4, 9, 1, 4, 0, 9, 1, 6, 8, 6, 1, 9, 1, 7, 5, 6, 1, 0, 7, 1, 3, 3, 6, 4, 0, 0, 5, 7, 3, 6, 2, 0, 5, 4, 6, 1, 1, 0, 7, 3, 5, 7, 7, 7, 9, 1, 2, 9, 0, 1, 8, 2, 7, 6, 6, 5, 0, 9, 6, 8, 2, 5, 4, 3, 2, 1, 8, 1, 3, 3, 7, 7, 6, 9, 5, 2, 7, 1, 0, 8, 4, 3, 9, 1, 0, 5, 3, 3, 9, 1, 9, 2, 4, 0, 5, 0, 1, 5, 7, 4, 3, 2, 0, 4, 9, 1, 1, 3, 6, 4, 7, 6, 2, 0, 6, 9, 4, 1, 1, 0, 1, 9, 1, 7, 8, 4, 8, 3, 4, 6, 4, 2, 6, 9, 0, 1, 3, 8, 3, 5, 4, 7, 5, 0, 1, 4, 0, 2, 1, 2, 5, 4, 5, 7, 1, 6, 9, 0, 0, 4, 2, 4, 6, 0, 0, 3, 0, 4, 9, 0, 9, 3, 5, 7, 7, 2, 1, 1, 8, 3, 1, 5, 5, 8, 0, 6, 2, 9, 1, 5, 1, 1, 6, 2, 7, 4, 1, 1, 7, 6, 9, 2, 5, 3, 9, 9, 0, 2, 2, 1, 7, 6, 2, 1, 9, 6, 1, 4, 1, 9, 6, 7, 1, 7, 9, 0, 9, 6, 0, 5, 3, 4, 8, 4, 6, 6, 9, 0, 2, 7, 8, 6, 8, 2, 4, 1, 0, 5, 7, 8, 1, 5, 2, 5, 0, 9, 1, 0, 1, 6, 2, 5, 4, 3, 4, 3, 1, 8, 7, 5, 4, 9, 7, 6, 3, 4, 1, 0, 8, 3, 6, 3, 3, 0, 2, 9, 7, 4, 3, 5, 4, 4, 8, 3, 8, 6, 3, 0, 3, 7, 3, 9, 0, 6, 1, 6, 9, 0, 3, 4, 5, 6, 6, 3, 6, 0, 1, 5, 2, 7, 7, 7, 9, 1, 3, 3, 0, 7, 5, 6, 1, 5, 2, 4, 9, 4, 9, 9, 8, 4, 8, 4, 6, 1, 4, 4, 7, 6]\n"
     ]
    },
    {
     "data": {
      "text/plain": [
       "([<matplotlib.axis.XTick at 0x21573247808>,\n",
       "  <matplotlib.axis.XTick at 0x21501973ec8>,\n",
       "  <matplotlib.axis.XTick at 0x215733d7988>,\n",
       "  <matplotlib.axis.XTick at 0x21573261d08>,\n",
       "  <matplotlib.axis.XTick at 0x21573264b08>],\n",
       " [Text(0, 0, ''),\n",
       "  Text(0, 0, ''),\n",
       "  Text(0, 0, ''),\n",
       "  Text(0, 0, ''),\n",
       "  Text(0, 0, '')])"
      ]
     },
     "execution_count": 9,
     "metadata": {},
     "output_type": "execute_result"
    },
    {
     "data": {
      "image/png": "[encoded data removed]",
      "text/plain": [
       "<Figure size 640x480 with 1 Axes>"
      ]
     },
     "metadata": {},
     "output_type": "display_data"
    }
   ],
   "source": [
    "# Code for plots (2 points as mentioned above)\n",
    "k_vals = [1, 2, 3, 4, 5]\n",
    "\n",
    "def k_tuning(k_vals, X_test, X_train, Y_test, Y_train): \n",
    "    test_accuracies = []\n",
    "    train_accuracies = []\n",
    "    for k in k_vals: \n",
    "        model = knn(k)\n",
    "        model.fit(X_train, Y_train)\n",
    "        #print(f\"X_train.shape: {X_train.shape}\")\n",
    "        test_accuracy = model.score(X_test, Y_test)\n",
    "        train_accuracy = model.training_accuracy(X_train, Y_train)\n",
    "        test_accuracies.append(test_accuracy)\n",
    "        train_accuracies.append(train_accuracy)\n",
    "\n",
    "    return test_accuracies, train_accuracies\n",
    "\n",
    "accuracies = k_tuning(k_vals, X_test, X_train, Y_test, Y_train)\n",
    "test_accuracies, train_accuracies = accuracies \n",
    "\n",
    "plt.plot(k_vals, test_accuracies, marker='o', linestyle='-', color='b', label='Test Accuracy')\n",
    "plt.plot(k_vals, train_accuracies, marker='s', linestyle='--', color='r', label='Train Accuracy')\n",
    "plt.xlabel('k Values')\n",
    "plt.ylabel('Accuracy')\n",
    "plt.title('KNN Model Accuracy for Different k Values')\n",
    "plt.xticks(k_vals)\n",
    "\n"
   ]
  },
  {
   "cell_type": "code",
   "execution_count": 11,
   "metadata": {},
   "outputs": [
    {
     "name": "stdout",
     "output_type": "stream",
     "text": [
      "[((0, 0.908),), ((1, 0.894),), ((2, 0.91),), ((3, 0.9),), ((4, 0.904),)] [((0, 1.0),), ((1, 0.9495),), ((2, 0.9515),), ((3, 0.9345),), ((4, 0.933),)]\n"
     ]
    }
   ],
   "source": [
    "\n",
    "\n",
    "test_accuracies, train_accuracies = accuracies \n",
    "\n",
    "test_data = zip(enumerate(test_accuracies))\n",
    "train_data = zip(enumerate(train_accuracies))\n",
    "\n",
    "print(list(test_data), list(train_data))"
   ]
  },
  {
   "attachments": {},
   "cell_type": "markdown",
   "metadata": {},
   "source": [
    "#### 1.3 (5 points)\n",
    "\n",
    "Choose one other distance function from below or create your own distance function. Below is a list of distance functions that you could try. You can use the optimal k-value from Q1.2; however, in real world, we would need to find the optimal k value again with the new distance function. Create a new `knn` class if you need to, but necessary. \n",
    "\n",
    "1. Manhattan Distance \n",
    "2. Cosine Distance \n",
    "3. L-Infinity norm \n"
   ]
  },
  {
   "cell_type": "code",
   "execution_count": 29,
   "metadata": {},
   "outputs": [],
   "source": [
    "\"\"\"\n",
    "You can use built-in Numpy methods to implement your distance forumla but be sure to understand what equations those methods are using. \n",
    "\"\"\"\n",
    "# Write the Python implementation here (1.5 points)\n",
    "\n",
    "class manhattan_knn:\n",
    "\tdef __init__(self, k):\n",
    "\t\tself.k = k\n",
    "\t\tself.X_train = None\n",
    "\t\tself.Y_train = None\n",
    "\n",
    "\tdef fit(self, X, Y):\n",
    "\t\tself.X_train = X\n",
    "\t\tself.Y_train = Y\n",
    "\n",
    "\tdef distance(self, x1, x2):\n",
    "\n",
    "\t\t# returns the distance between two vectors\n",
    "\t\t# the distance is the L2 norm\n",
    "\t\t# your solution here  \n",
    "\t\t# problem 1.1.1 , 1.5 points\n",
    "\t\treturn np.sum(np.abs(np.array(x1)-np.array(x2)))\n",
    "\n",
    "\t\n",
    "\tdef predict(self, x_test):\n",
    "\t\t# returns the predictions for multiple examples X\n",
    "\t\t# your solution here\n",
    "\t\t# problem 1.1.2 , 3 points\n",
    "\t\tpredictions = []\n",
    "\t\tfor i in np.array(x_test): \n",
    "\t\t\tdistances = [self.distance(i, x) for x in self.X_train ]\n",
    "\t\t\tk_nearest_indices = np.argsort(distances)[:self.k]\n",
    "\t\t\t#print(f\"k_nearest_indices:{k_nearest_indices}\")\n",
    "\t\t\tk_nearest_labels = self.Y_train[k_nearest_indices]\n",
    "\t\t\t#print(f\"k_nearest_labels.shape: {k_nearest_labels.shape}\")\n",
    "\t\t\t#print(f\"Y_train.shape: {self.Y_train.shape}\")\n",
    "\t\t\tprediction  = np.bincount(k_nearest_labels).argmax()\n",
    "\t\t\tpredictions.append(prediction)\n",
    "\n",
    "\t\treturn predictions\n",
    "\n",
    "\tdef score(self, x_test, y_test):\n",
    "\t\t# Return the accuracy of your model on the test data.\n",
    "\t\t# problem 1.1.3, 0.5 point\n",
    "\t\t\n",
    "\t\tpredictions = self.predict(x_test)\n",
    "\t\tprint(f\"predictions:{predictions}\")\n",
    "\t\taccuracy_mask = np.equal(predictions, y_test)\n",
    "\t\tscore = np.mean(accuracy_mask)\n",
    "\n",
    "\t\treturn score \n",
    "\t\n",
    "\tdef training_accuracy(self, x_train, y_train): \n",
    "\t\tpredictions = self.predict(x_train)\n",
    "\t\taccuracy_mask = np.equal(predictions, y_train)\n",
    "\t\taccuracy = np.mean(accuracy_mask)\n",
    "\n",
    "\t\treturn accuracy\n",
    "\n",
    "\t\t\n",
    "\t\t\t\t\n",
    "\n",
    "    "
   ]
  },
  {
   "attachments": {},
   "cell_type": "markdown",
   "metadata": {},
   "source": [
    "\n",
    "**Write answers to the below questions**\n",
    "\n",
    "What is your distance function? Write down the distance equation. (0.5 point)<br/>\n",
    "Answer: Σ|x1-x2|\n",
    "\n",
    "Describe issues with using the L2 norm: (2 points)<br/>\n",
    "Answer:  The L2 norm is not generalizable to higher dimensional space. In the context of KNN it means our model will perform worse (at least insofar as regards our distance metric) with the addition of new features. I read about this here: https://stats.stackexchange.com/questions/99171/why-is-euclidean-distance-not-a-good-metric-in-high-dimensions\n",
    "\n",
    "What do you think is the reason your distance function performs better, worse, or similar than L2 norm? (1 points)<br/>\n",
    "Answer: According to the people on stack exchange, for Lk norms, as k increases the norm is less generalizable to higher dimensional space. Because of this I woudl expect for their to not be a huge difference between Manahttan and Euclidian distance on this dataset, but for a model with a greater number of features I would expect Manhattan to be better. \n",
    "\n"
   ]
  },
  {
   "attachments": {},
   "cell_type": "markdown",
   "metadata": {},
   "source": [
    "\n",
    "### Problem 2\n",
    "\n",
    "In this problem , we will be using the wine classfication dataset. Before opimizing our KNN model, it is imperative to understand the properties of our dataset.\n",
    "\n",
    "More information about the dataset is linked below:\n",
    "\n",
    "https://archive.ics.uci.edu/ml/datasets/wine"
   ]
  },
  {
   "cell_type": "code",
   "execution_count": 13,
   "metadata": {},
   "outputs": [
    {
     "name": "stdout",
     "output_type": "stream",
     "text": [
      "(178, 13)\n",
      "(178,)\n",
      "feature names: ['alcohol', 'malic_acid', 'ash', 'alcalinity_of_ash', 'magnesium', 'total_phenols', 'flavanoids', 'nonflavanoid_phenols', 'proanthocyanins', 'color_intensity', 'hue', 'od280/od315_of_diluted_wines', 'proline']\n",
      "target names: ['class_0' 'class_1' 'class_2']\n"
     ]
    }
   ],
   "source": [
    "wine = load_wine()\n",
    "X = wine.data\n",
    "print(X.shape)\n",
    "Y = wine.target\n",
    "print(Y.shape)\n",
    "print(\"feature names:\", wine.feature_names)\n",
    "print(\"target names:\", wine.target_names)"
   ]
  },
  {
   "attachments": {},
   "cell_type": "markdown",
   "metadata": {},
   "source": [
    "#### 2.1  (3 points)\n",
    "\n",
    "Now, let’s classify the wine dataset using our KNN with the L2 norm as the distance function. Choose the optimal k value for this task and record your approach.\n",
    "\n",
    "You might need to change the k value a couple of times to find the one with the highest average test accuracy. Feel free to add a for loop. \n",
    "\n",
    "Since we have limited data, we can use K-folds to assess the performance of our model more accurately. \n",
    "\n",
    "Note: KFold is a tool from Sklearn that helps you prepare your data for k-fold cross-validation (I know, the letter k is a little overused... K-fold, K-NN, K-means...) This line of code creates an instance of the tool with k, the number of folds, equals 5, which means each fold is 1/5 the size of the entire dataset. For each fold, we take the fold as the test set and the rest as the training set. When `n_splits` = 5, we will \" train\" the KNN 5 times and \"test\" it 5 times. Exactly which sample goes into which fold is random. (parameter `shuffle = True`) \n",
    "Link to documentation: https://scikit-learn.org/stable/modules/generated/sklearn.model_selection.KFold.html\n",
    "\n",
    "For each k value, store accuracy of each test in a list so we can take the average of the accuracy scores. Each list should be `n_splits` long. Use the averages to determine the optimal k value.\n",
    "\n",
    "NOTE: Use the KNN model you built for this task.\n"
   ]
  },
  {
   "cell_type": "code",
   "execution_count": 21,
   "metadata": {},
   "outputs": [
    {
     "name": "stdout",
     "output_type": "stream",
     "text": [
      "predictions:[1, 7, 1, 3, 0, 7, 0, 7, 5, 4, 4, 4, 7, 3, 9, 2, 5, 6, 4, 7, 6, 4, 6, 7, 0, 6, 0, 0, 7, 3, 6, 5, 7, 3, 3, 3]\n",
      "predictions:[9, 0, 2, 4, 3, 9, 6, 5, 3, 9, 4, 3, 3, 0, 0, 4, 7, 2, 7, 2, 4, 2, 0, 2, 9, 1, 7, 7, 7, 7, 8, 1, 9, 9, 2, 7]\n",
      "predictions:[3, 3, 1, 1, 7, 3, 1, 7, 1, 1, 6, 9, 9, 9, 8, 2, 6, 1, 5, 9, 2, 8, 4, 1, 8, 7, 6, 5, 9, 1, 7, 2, 9, 6, 8, 6]\n",
      "predictions:[1, 3, 8, 3, 7, 5, 4, 7, 5, 6, 5, 5, 3, 2, 1, 3, 1, 1, 0, 6, 2, 0, 0, 0, 1, 3, 8, 4, 9, 7, 1, 3, 6, 1, 2]\n",
      "predictions:[4, 0, 1, 4, 0, 0, 0, 0, 1, 1, 0, 9, 8, 4, 9, 3, 1, 4, 8, 0, 1, 5, 1, 8, 8, 8, 1, 9, 4, 4, 8, 1, 7, 2, 9]\n",
      "predictions:[1, 7, 1, 2, 0, 7, 0, 2, 5, 4, 4, 4, 0, 3, 0, 2, 0, 1, 2, 3, 0, 4, 0, 7, 0, 4, 0, 0, 6, 1, 4, 1, 6, 2, 3, 3]\n",
      "predictions:[8, 0, 2, 0, 3, 5, 0, 1, 3, 8, 3, 3, 3, 0, 0, 4, 7, 2, 7, 2, 1, 2, 0, 2, 7, 1, 6, 1, 7, 0, 6, 1, 5, 1, 2, 5]\n",
      "predictions:[3, 3, 1, 1, 1, 3, 1, 1, 1, 1, 1, 0, 0, 3, 1, 2, 6, 1, 3, 4, 2, 1, 4, 1, 4, 7, 3, 5, 4, 1, 0, 1, 9, 6, 4, 1]\n",
      "predictions:[1, 3, 3, 3, 7, 5, 4, 7, 4, 4, 5, 5, 3, 2, 1, 3, 0, 1, 0, 0, 1, 0, 0, 0, 0, 3, 1, 4, 9, 1, 1, 3, 1, 1, 2]\n",
      "predictions:[4, 0, 1, 0, 0, 0, 0, 0, 1, 1, 0, 4, 8, 1, 3, 0, 1, 4, 0, 0, 1, 0, 0, 7, 0, 0, 1, 4, 4, 4, 4, 1, 7, 2, 8]\n",
      "predictions:[1, 7, 1, 2, 0, 1, 0, 2, 2, 3, 4, 4, 0, 0, 0, 2, 0, 1, 2, 3, 0, 4, 0, 1, 0, 4, 0, 0, 3, 1, 4, 1, 1, 2, 0, 3]\n",
      "predictions:[9, 0, 2, 0, 3, 2, 0, 1, 3, 4, 3, 3, 3, 0, 0, 4, 6, 2, 7, 2, 1, 2, 3, 2, 4, 1, 4, 0, 7, 0, 8, 1, 1, 9, 9, 0]\n",
      "predictions:[1, 3, 0, 1, 1, 3, 1, 0, 1, 1, 1, 0, 0, 1, 0, 2, 6, 1, 3, 4, 2, 1, 4, 1, 2, 5, 3, 5, 1, 1, 7, 1, 9, 6, 4, 1]\n",
      "predictions:[1, 3, 1, 3, 4, 5, 4, 0, 2, 4, 5, 6, 3, 2, 1, 3, 0, 1, 0, 0, 1, 1, 0, 0, 0, 3, 1, 4, 9, 1, 1, 0, 1, 1, 9]\n",
      "predictions:[3, 0, 0, 0, 0, 0, 0, 0, 1, 0, 0, 0, 8, 1, 3, 0, 1, 7, 0, 0, 9, 0, 0, 0, 0, 0, 1, 4, 4, 4, 8, 0, 7, 2, 2]\n",
      "predictions:[1, 7, 1, 0, 8, 1, 9, 3, 2, 9, 4, 3, 0, 0, 0, 0, 0, 1, 2, 1, 5, 6, 7, 1, 0, 7, 0, 0, 3, 3, 7, 1, 1, 2, 0, 7]\n",
      "predictions:[9, 0, 1, 0, 4, 5, 0, 5, 3, 4, 1, 3, 3, 0, 0, 4, 6, 2, 7, 0, 7, 2, 3, 2, 2, 1, 1, 0, 7, 0, 8, 0, 5, 9, 9, 0]\n",
      "predictions:[1, 1, 0, 1, 1, 3, 1, 7, 1, 1, 1, 9, 9, 3, 0, 9, 6, 1, 3, 1, 2, 1, 1, 1, 2, 2, 1, 4, 4, 1, 7, 1, 9, 6, 4, 1]\n",
      "predictions:[1, 3, 1, 3, 1, 5, 0, 0, 4, 0, 9, 6, 3, 2, 0, 3, 0, 1, 0, 0, 1, 1, 0, 1, 0, 3, 0, 4, 9, 1, 1, 5, 6, 1, 9]\n",
      "predictions:[3, 0, 0, 0, 0, 0, 0, 0, 3, 0, 0, 0, 8, 1, 3, 0, 1, 7, 0, 0, 9, 0, 0, 0, 0, 0, 8, 5, 4, 4, 8, 0, 7, 2, 2]\n",
      "predictions:[1, 7, 1, 3, 8, 7, 8, 3, 2, 4, 1, 3, 0, 0, 1, 0, 0, 1, 8, 1, 5, 6, 7, 1, 1, 7, 0, 0, 7, 3, 7, 0, 7, 9, 2, 7]\n",
      "predictions:[9, 0, 1, 9, 4, 5, 0, 5, 3, 1, 1, 3, 3, 0, 9, 4, 6, 2, 1, 0, 7, 9, 3, 9, 4, 0, 4, 0, 7, 9, 8, 0, 5, 9, 9, 0]\n",
      "predictions:[1, 1, 0, 3, 3, 3, 1, 7, 3, 1, 1, 9, 9, 3, 1, 4, 6, 1, 3, 6, 2, 1, 0, 1, 2, 9, 1, 9, 4, 9, 7, 9, 9, 6, 6, 0]\n",
      "predictions:[1, 3, 1, 3, 7, 5, 0, 8, 2, 0, 9, 5, 3, 2, 0, 3, 0, 1, 1, 1, 2, 1, 9, 0, 0, 3, 0, 8, 9, 4, 1, 5, 3, 1, 9]\n",
      "predictions:[3, 0, 7, 1, 7, 0, 0, 3, 3, 0, 0, 0, 8, 8, 3, 0, 1, 7, 8, 0, 9, 0, 0, 0, 0, 0, 8, 4, 4, 4, 8, 0, 1, 1, 1]\n",
      "Optimal k value: 5\n",
      "Average accuracy with optimal k: 0.08968253968253968\n"
     ]
    }
   ],
   "source": [
    "\n",
    "kf = KFold(n_splits=5, shuffle=True, random_state=123) # Do not change the arguments. \n",
    "\n",
    "\n",
    "avg_accuracies = []\n",
    "\n",
    "\n",
    "for k in k_vals:\n",
    "    fold_accuracies = []\n",
    "    for train_index, test_index in kf.split(X):\n",
    "        X_train, X_test = X[train_index], X[test_index]\n",
    "        y_train, y_test = y[train_index], y[test_index]\n",
    "        \n",
    "        model = knn(k)\n",
    "        model.fit(X_train, y_train)\n",
    "        \n",
    "        accuracy = model.score(X_test, y_test)\n",
    "        fold_accuracies.append(accuracy)\n",
    "    \n",
    "    avg_accuracy = np.mean(fold_accuracies)\n",
    "    avg_accuracies.append(avg_accuracy)\n",
    "\n",
    "optimal_k = k_vals[np.argmax(avg_accuracies)]\n",
    "optimal_accuracy = max(avg_accuracies)\n",
    "\n",
    "print(f'Optimal k value: {optimal_k}')\n",
    "print(f'Average accuracy with optimal k: {optimal_accuracy}')"
   ]
  },
  {
   "attachments": {},
   "cell_type": "markdown",
   "metadata": {},
   "source": [
    "\n",
    "#### 2.2 (4 points)\n",
    "Again, we would like to change our distance function to best fit our classification problem. Choose a distance function from what we have listed. It can be the same one from problem 1.3 . Set k equal to the optimal k value you have found.\n",
    "\n",
    "\n",
    "(It is okay if the new distance function performs worse than using the L2 norm. You just need to write the new distance function and apply KNN to the dataset.)"
   ]
  },
  {
   "cell_type": "code",
   "execution_count": 22,
   "metadata": {},
   "outputs": [
    {
     "name": "stdout",
     "output_type": "stream",
     "text": [
      "predictions:[1, 7, 1, 3, 0, 7, 0, 7, 5, 4, 4, 4, 7, 3, 9, 2, 5, 6, 4, 7, 6, 4, 6, 7, 0, 6, 0, 0, 7, 3, 6, 5, 7, 3, 3, 3]\n",
      "predictions:[9, 0, 2, 4, 3, 9, 6, 5, 3, 9, 4, 3, 3, 0, 0, 4, 7, 2, 7, 2, 4, 2, 0, 2, 9, 1, 7, 7, 7, 7, 8, 1, 9, 9, 2, 7]\n",
      "predictions:[3, 3, 1, 1, 7, 3, 1, 7, 1, 1, 6, 9, 9, 9, 8, 2, 6, 1, 5, 9, 2, 8, 4, 1, 8, 7, 6, 5, 9, 1, 7, 2, 9, 6, 8, 6]\n",
      "predictions:[1, 3, 8, 3, 7, 5, 4, 7, 5, 6, 5, 5, 3, 2, 1, 3, 1, 1, 0, 6, 2, 0, 0, 0, 1, 3, 8, 4, 9, 7, 1, 3, 6, 1, 2]\n",
      "predictions:[4, 0, 1, 4, 0, 0, 0, 0, 1, 1, 0, 9, 8, 4, 9, 3, 1, 4, 8, 0, 1, 5, 1, 8, 8, 8, 1, 9, 4, 4, 8, 1, 7, 2, 9]\n",
      "predictions:[1, 7, 1, 2, 0, 7, 0, 2, 5, 4, 4, 4, 0, 3, 0, 2, 0, 1, 2, 3, 0, 4, 0, 7, 0, 4, 0, 0, 6, 1, 4, 1, 6, 2, 3, 3]\n",
      "predictions:[8, 0, 2, 0, 3, 5, 0, 1, 3, 8, 3, 3, 3, 0, 0, 4, 7, 2, 7, 2, 1, 2, 0, 2, 7, 1, 6, 1, 7, 0, 6, 1, 5, 1, 2, 5]\n",
      "predictions:[3, 3, 1, 1, 1, 3, 1, 1, 1, 1, 1, 0, 0, 3, 1, 2, 6, 1, 3, 4, 2, 1, 4, 1, 4, 7, 3, 5, 4, 1, 0, 1, 9, 6, 4, 1]\n",
      "predictions:[1, 3, 3, 3, 7, 5, 4, 7, 4, 4, 5, 5, 3, 2, 1, 3, 0, 1, 0, 0, 1, 0, 0, 0, 0, 3, 1, 4, 9, 1, 1, 3, 1, 1, 2]\n",
      "predictions:[4, 0, 1, 0, 0, 0, 0, 0, 1, 1, 0, 4, 8, 1, 3, 0, 1, 4, 0, 0, 1, 0, 0, 7, 0, 0, 1, 4, 4, 4, 4, 1, 7, 2, 8]\n",
      "predictions:[1, 7, 1, 2, 0, 1, 0, 2, 2, 3, 4, 4, 0, 0, 0, 2, 0, 1, 2, 3, 0, 4, 0, 1, 0, 4, 0, 0, 3, 1, 4, 1, 1, 2, 0, 3]\n",
      "predictions:[9, 0, 2, 0, 3, 2, 0, 1, 3, 4, 3, 3, 3, 0, 0, 4, 6, 2, 7, 2, 1, 2, 3, 2, 4, 1, 4, 0, 7, 0, 8, 1, 1, 9, 9, 0]\n",
      "predictions:[1, 3, 0, 1, 1, 3, 1, 0, 1, 1, 1, 0, 0, 1, 0, 2, 6, 1, 3, 4, 2, 1, 4, 1, 2, 5, 3, 5, 1, 1, 7, 1, 9, 6, 4, 1]\n",
      "predictions:[1, 3, 1, 3, 4, 5, 4, 0, 2, 4, 5, 6, 3, 2, 1, 3, 0, 1, 0, 0, 1, 1, 0, 0, 0, 3, 1, 4, 9, 1, 1, 0, 1, 1, 9]\n",
      "predictions:[3, 0, 0, 0, 0, 0, 0, 0, 1, 0, 0, 0, 8, 1, 3, 0, 1, 7, 0, 0, 9, 0, 0, 0, 0, 0, 1, 4, 4, 4, 8, 0, 7, 2, 2]\n",
      "predictions:[1, 7, 1, 0, 8, 1, 9, 3, 2, 9, 4, 3, 0, 0, 0, 0, 0, 1, 2, 1, 5, 6, 7, 1, 0, 7, 0, 0, 3, 3, 7, 1, 1, 2, 0, 7]\n",
      "predictions:[9, 0, 1, 0, 4, 5, 0, 5, 3, 4, 1, 3, 3, 0, 0, 4, 6, 2, 7, 0, 7, 2, 3, 2, 2, 1, 1, 0, 7, 0, 8, 0, 5, 9, 9, 0]\n",
      "predictions:[1, 1, 0, 1, 1, 3, 1, 7, 1, 1, 1, 9, 9, 3, 0, 9, 6, 1, 3, 1, 2, 1, 1, 1, 2, 2, 1, 4, 4, 1, 7, 1, 9, 6, 4, 1]\n",
      "predictions:[1, 3, 1, 3, 1, 5, 0, 0, 4, 0, 9, 6, 3, 2, 0, 3, 0, 1, 0, 0, 1, 1, 0, 1, 0, 3, 0, 4, 9, 1, 1, 5, 6, 1, 9]\n",
      "predictions:[3, 0, 0, 0, 0, 0, 0, 0, 3, 0, 0, 0, 8, 1, 3, 0, 1, 7, 0, 0, 9, 0, 0, 0, 0, 0, 8, 5, 4, 4, 8, 0, 7, 2, 2]\n",
      "predictions:[1, 7, 1, 3, 8, 7, 8, 3, 2, 4, 1, 3, 0, 0, 1, 0, 0, 1, 8, 1, 5, 6, 7, 1, 1, 7, 0, 0, 7, 3, 7, 0, 7, 9, 2, 7]\n",
      "predictions:[9, 0, 1, 9, 4, 5, 0, 5, 3, 1, 1, 3, 3, 0, 9, 4, 6, 2, 1, 0, 7, 9, 3, 9, 4, 0, 4, 0, 7, 9, 8, 0, 5, 9, 9, 0]\n",
      "predictions:[1, 1, 0, 3, 3, 3, 1, 7, 3, 1, 1, 9, 9, 3, 1, 4, 6, 1, 3, 6, 2, 1, 0, 1, 2, 9, 1, 9, 4, 9, 7, 9, 9, 6, 6, 0]\n",
      "predictions:[1, 3, 1, 3, 7, 5, 0, 8, 2, 0, 9, 5, 3, 2, 0, 3, 0, 1, 1, 1, 2, 1, 9, 0, 0, 3, 0, 8, 9, 4, 1, 5, 3, 1, 9]\n",
      "predictions:[3, 0, 7, 1, 7, 0, 0, 3, 3, 0, 0, 0, 8, 8, 3, 0, 1, 7, 8, 0, 9, 0, 0, 0, 0, 0, 8, 4, 4, 4, 8, 0, 1, 1, 1]\n",
      "Optimal k value: 5\n",
      "Average accuracy with optimal k: 0.08968253968253968\n"
     ]
    }
   ],
   "source": [
    "# Python implementation (1.5 points)\n",
    "# You can keep the code you wrote for testing the new distance function. \n",
    "\n",
    "for k in k_vals:\n",
    "    fold_accuracies = []\n",
    "    for train_index, test_index in kf.split(X):\n",
    "        X_train, X_test = X[train_index], X[test_index]\n",
    "        y_train, y_test = y[train_index], y[test_index]\n",
    "        \n",
    "        knn = manhattan_knn(k=k)\n",
    "        knn.fit(X_train, y_train)\n",
    "        \n",
    "        accuracy = knn.score(X_test, y_test)\n",
    "        fold_accuracies.append(accuracy)\n",
    "    \n",
    "    avg_accuracy = np.mean(fold_accuracies)\n",
    "    avg_accuracies.append(avg_accuracy)\n",
    "\n",
    "optimal_k = k_vals[np.argmax(avg_accuracies)]\n",
    "optimal_accuracy = max(avg_accuracies)\n",
    "\n",
    "print(f'Optimal k value: {optimal_k}')\n",
    "print(f'Average accuracy with optimal k: {optimal_accuracy}')"
   ]
  },
  {
   "attachments": {},
   "cell_type": "markdown",
   "metadata": {},
   "source": [
    "\n",
    "\n",
    "**Write answers to the below questions**\n",
    "\n",
    "What is your distance function? Write down the distance equation. (0.5 point)<br/>\n",
    "Answer: Manhattan Distance \n",
    "\n",
    "What do you think is the reason your distance function performs better or worse than the L2 norm? (2 points)<br/>\n",
    "Answer: This dataset has 13 dimensions and the L1 norm should perform better than the L2 norm according to the mathematics stack exchange people so I think manhattan distance is the way to go. "
   ]
  },
  {
   "attachments": {},
   "cell_type": "markdown",
   "metadata": {},
   "source": [
    "#### 2.3 (3 points)\n",
    "\n",
    "We can further improve the accuracy of our model by normalizing the dataset.  \n",
    "\n",
    "Data can be normalized using the following equation:\n",
    "\n",
    "$$ x_{ij}^{normalized} = \\frac{x_{ij} -\\mu_{j}}{\\sigma_{j}} $$\n",
    "Where $x_{ij}$ is the value of feature j of sample i, \n",
    "\n",
    "$\\mu_{j} $ and $\\sigma_{j}$ are the mean and the standard deviation of feature j.\n",
    "\n",
    "Normalize the wine dataset and apply your KNN model (with your favorite k value and distance function) on the normalized dataset. \n",
    "\n",
    "Print the new average test accuracy score after performing k-fold cross-validation. "
   ]
  },
  {
   "cell_type": "code",
   "execution_count": 32,
   "metadata": {},
   "outputs": [
    {
     "name": "stdout",
     "output_type": "stream",
     "text": [
      "predictions:[0, 0, 0, 0, 0, 0, 0, 0, 0, 0, 0, 0, 0, 0, 0, 0, 0, 0, 0, 0, 0, 0, 0, 0, 0, 0, 0, 0, 0, 0, 0, 0, 0, 0, 0, 0, 0, 0, 0, 0, 0, 0, 0, 0, 0, 0, 0, 0, 0, 0, 0, 0, 0, 0, 0, 0, 0, 0, 0, 0, 0, 0, 0, 0, 0, 0, 0, 0, 0, 0, 0, 0, 0, 0, 0, 0, 0, 0, 0, 0, 0, 0, 0, 0, 0, 0, 0, 0, 0, 0, 0, 0, 0, 0, 0, 0, 0, 0, 0, 0, 0, 0, 0, 0, 0, 0, 0, 0, 0, 0, 0, 0, 0, 0, 0, 0, 0, 0, 0, 0, 0, 0, 0, 0, 0, 0, 0, 0, 0, 0, 0, 0, 0, 0, 0, 0, 0, 0, 0, 0, 0, 0, 0, 0, 0, 0, 0, 0, 0, 0, 0, 0, 0, 0, 0, 0, 0, 0, 0, 0, 0, 0, 0, 0, 0, 0, 0, 0, 0, 0, 0, 0, 0, 0, 0, 0, 0, 0]\n"
     ]
    },
    {
     "data": {
      "text/plain": [
       "0.33146067415730335"
      ]
     },
     "execution_count": 32,
     "metadata": {},
     "output_type": "execute_result"
    }
   ],
   "source": [
    "# YOUR CODE HERE:\n",
    "\n",
    "def normalize_data(data): \n",
    "    standard_devs = []\n",
    "    means = []\n",
    "    for col in range(data.shape[1]):\n",
    "        standard_dev = np.std(data[:, col])\n",
    "        standard_devs.append(standard_dev)\n",
    "        mean = np.mean(data[:, col])\n",
    "        means.append(mean)\n",
    "    \n",
    "    norms = np.zeros(data.shape)\n",
    "    for i in range(data.shape[0]): \n",
    "        for j in range(data.shape[1]):\n",
    "            norm = (data[i, j] - means[j]) / standard_devs[j]\n",
    "            norms[i, j] = norm\n",
    "    return norms\n",
    "\n",
    "normed_data = normalize_data(X)\n",
    "\n",
    "last_model = manhattan_knn(4)\n",
    "last_model.fit(normed_data, Y)\n",
    "predictions = last_model.predict(normed_data)\n",
    "last_model.score(predictions, Y)\n"
   ]
  },
  {
   "attachments": {},
   "cell_type": "markdown",
   "metadata": {},
   "source": [
    "### 2.4 (1 Point)\n",
    "Why do you think normalization can make a large improvement to our classification accuracy? \n"
   ]
  },
  {
   "attachments": {},
   "cell_type": "markdown",
   "metadata": {},
   "source": [
    "Putting every feature in the same scale makes it so that they are all equally weighted. Otherwise a feature with the scale 0-1000 would be weighed more than a feature with the scale 0-1. THis is especailly true because we are using distance metrics in our model, where scale is very important. "
   ]
  },
  {
   "cell_type": "markdown",
   "metadata": {},
   "source": []
  }
 ],
 "metadata": {
  "kernelspec": {
   "display_name": "Python 3 (ipykernel)",
   "language": "python",
   "name": "python3"
  },
  "language_info": {
   "codemirror_mode": {
    "name": "ipython",
    "version": 3
   },
   "file_extension": ".py",
   "mimetype": "text/x-python",
   "name": "python",
   "nbconvert_exporter": "python",
   "pygments_lexer": "ipython3",
   "version": "3.7.12"
  },
  "vscode": {
   "interpreter": {
    "hash": "7b63700a7479ca494b09cb94f65ff43e6df18b3e5067a4f3d4ae63f32d2fcb1e"
   }
  }
 },
 "nbformat": 4,
 "nbformat_minor": 4
}
